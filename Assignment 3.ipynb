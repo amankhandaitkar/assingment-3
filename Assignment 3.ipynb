{
 "cells": [
  {
   "cell_type": "markdown",
   "id": "41c231d1",
   "metadata": {},
   "source": [
    "#  1. Why are functions advantageous to have in your programs?\n",
    "\n",
    "Ans: 1).Functions promote code reusability, allow to call the same block of code multiple times.\n",
    "\n",
    "2).They enable modular programming, breaking complex tasks into manageable components for better organization and maintainability.\n",
    "3).Functions abstract implementation details, simplifying code usage and focusing on higher-level logic.\n",
    "\n",
    "4).They facilitate testing and debugging by isolating units of code.\n",
    "\n",
    "5).Functions foster collaboration among developers working on different parts of the program.\n",
    "\n",
    "6).They enhance code readability through well-named functions acting as self-documentation.\n",
    "\n",
    "7).Functions can optimize performance by identifying and improving specific code bottlenecks."
   ]
  },
  {
   "cell_type": "markdown",
   "id": "ada6fb02",
   "metadata": {},
   "source": [
    "#  2. When does the code in a function run: when it&#39;s specified or when it&#39;s called?\n",
    "\n",
    "Ans: The code in a fuction run when it called not when it specified."
   ]
  },
  {
   "cell_type": "markdown",
   "id": "2f713aa8",
   "metadata": {},
   "source": [
    "# 3. What statement creates a function?\n",
    "\n",
    "Ans: The \"def\" statement creates a function."
   ]
  },
  {
   "cell_type": "markdown",
   "id": "f41d6f9f",
   "metadata": {},
   "source": [
    "# 4. What is the difference between a function and a function call?\n",
    "\n",
    "Ans: A function is a block of code that performs a specific task or set of tasks, while a function call is the act of invoking or executing the function to perform its defined task. In other words, a function is a defined entity that contains code, and a function call is the action of using that function to execute its code and produce a result."
   ]
  },
  {
   "cell_type": "markdown",
   "id": "5ebb9306",
   "metadata": {},
   "source": [
    "# 5. How many global scopes are there in a Python program? How many local scopes?\n",
    "\n",
    "Ans: \n",
    "In a Python program, there is only one global scope, and it is accessible throughout the entire program.The number of local scopes can vary depending on the number of functions defined in the program. Each function has its own local scope, and it is created whenever the function is called and destroyed when the function returns."
   ]
  },
  {
   "cell_type": "markdown",
   "id": "8f9eb744",
   "metadata": {},
   "source": [
    "# 6. What happens to variables in a local scope when the function call returns?\n",
    "Ans: When the function call returns, the variables in the local scope are destroyed. This means that the memory allocated for the local variables is freed, and their values are no longer accessible or retained. Any data stored in local variables within the function is lost once the function execution is complete and the function call returns to the calling code"
   ]
  },
  {
   "cell_type": "markdown",
   "id": "22d9b521",
   "metadata": {},
   "source": [
    "# 7. What is the concept of a return value? Is it possible to have a return value in an expression?\n",
    "Ans: When the function call returns, the variables in the local scope are destroyed. This means that the memory allocated for the local variables is freed, and their values are no longer accessible or retained. Any data stored in local variables within the function is lost once the function execution is complete and the function call returns to the calling code."
   ]
  },
  {
   "cell_type": "markdown",
   "id": "87b48d83",
   "metadata": {},
   "source": [
    "# 8. If a function does not have a return statement, what is the return value of a call to that function?\n",
    "\n",
    "Ans: If a function does not have a return statement, the return value of a call to that function is None. In Python, when a function does not explicitly return a value using the return statement, it automatically returns None as the default value. It indicates that the function call has completed successfully, but there is no specific value being returned from the function."
   ]
  },
  {
   "cell_type": "markdown",
   "id": "ca17b691",
   "metadata": {},
   "source": [
    "# 9. How do you make a function variable refer to the global variable?\n",
    "Ans: To make a function variable refer to the global variable, use the global keyword followed by the variable name inside the function. This allows the function to access and modify the global variable instead of creating a new local variable with the same name"
   ]
  },
  {
   "cell_type": "markdown",
   "id": "3a590c8c",
   "metadata": {},
   "source": [
    "# 10. What is the data type of None?\n",
    "Ans: The data type of None in Python is \"NoneType\". It is a special built-in constant that represents the absence of a value or a null value. In Python, None is used to indicate that a variable or expression does not have a meaningful value assigned to it."
   ]
  },
  {
   "cell_type": "markdown",
   "id": "4f69b56d",
   "metadata": {},
   "source": [
    "# 11. What does the sentence import areallyourpetsnamederic do?\n",
    "Ans: \n",
    "The sentence \"import areallyourpetsnamederic\" is not a valid Python import statement and would result in a ModuleNotFoundError unless there is a module named \"areallyourpetsnamederic\" available in the Python environment"
   ]
  },
  {
   "cell_type": "markdown",
   "id": "a90751e1",
   "metadata": {},
   "source": [
    "# 12. If you had a bacon() feature in a spam module, what would you call it after importing spam? \n",
    "Ans: If i had a bacon() feature in a spam module, i would call it after importing spam by using the syntax spam.bacon()."
   ]
  },
  {
   "cell_type": "markdown",
   "id": "4da43717",
   "metadata": {},
   "source": [
    "# 13. What can you do to save a programme from crashing if it encounters an error?\n",
    "Ans: To save a program from crashing if it encounters an error, you can use exception handling with try and except blocks."
   ]
  },
  {
   "cell_type": "markdown",
   "id": "e86a3fee",
   "metadata": {},
   "source": [
    "# 14. What is the purpose of the try clause? What is the purpose of the except clause?\n",
    "Ans: The purpose of the try clause is to enclose the code that might raise an exception or an error. It allows the program to attempt the risky operation without crashing.The purpose of the except clause is to specify the code that will be executed if an exception is raised within the corresponding try block. It provides a way to handle the exception gracefully and prevents the program from terminating abruptly.\n"
   ]
  },
  {
   "cell_type": "code",
   "execution_count": null,
   "id": "d4da7bdb",
   "metadata": {},
   "outputs": [],
   "source": []
  }
 ],
 "metadata": {
  "kernelspec": {
   "display_name": "Python 3 (ipykernel)",
   "language": "python",
   "name": "python3"
  },
  "language_info": {
   "codemirror_mode": {
    "name": "ipython",
    "version": 3
   },
   "file_extension": ".py",
   "mimetype": "text/x-python",
   "name": "python",
   "nbconvert_exporter": "python",
   "pygments_lexer": "ipython3",
   "version": "3.11.3"
  }
 },
 "nbformat": 4,
 "nbformat_minor": 5
}
